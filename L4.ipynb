{
 "cells": [
  {
   "cell_type": "markdown",
   "metadata": {},
   "source": [
    "## Rozwiązanie listy 4"
   ]
  },
  {
   "cell_type": "code",
   "execution_count": 3,
   "metadata": {},
   "outputs": [],
   "source": [
    "import matplotlib.pyplot as plt\n",
    "%matplotlib inline\n",
    "import numpy as np\n",
    "from math import pi"
   ]
  },
  {
   "cell_type": "markdown",
   "metadata": {},
   "source": [
    "### Zad. 1"
   ]
  },
  {
   "cell_type": "code",
   "execution_count": 4,
   "metadata": {},
   "outputs": [
    {
     "data": {
      "image/png": "[encoded data removed]",
      "text/plain": [
       "<Figure size 432x288 with 1 Axes>"
      ]
     },
     "metadata": {
      "needs_background": "light"
     },
     "output_type": "display_data"
    }
   ],
   "source": [
    "x_c0 = [0, 1, 2, 2, 3] # r\n",
    "y_c0 = [1, 2, 1, 2, 3]\n",
    "x_c1 = [3, 4, 5, 5, 0] # b\n",
    "y_c1 = [4, 4, 4, 5, 0]\n",
    "x_u1 = [0, 4, 1]\n",
    "y_u1 = [2, 3, 0]\n",
    "plt.scatter(x_c0, y_c0, c = 'r')\n",
    "plt.scatter(x_c1, y_c1, c = 'b')\n",
    "plt.scatter(x_u1, y_u1, c = 'k', marker = 'x')\n",
    "plt.show()"
   ]
  },
  {
   "cell_type": "markdown",
   "metadata": {},
   "source": [
    " 1. Punkt (0, 2) znajduje się najbliżej punktów (0, 1) oraz (1, 2). Oba sklasyfikowane są jako 0 (czerwone), dlatego ten punkt również klasyfikujemy jako 0.\n",
    " 2. Punkt (1, 0) leży najbliżej punktu (0, 0) sklasyfikowanego jako 1 (niebieski), dlatego klasyfikujemy go jako 1. Dwa kolejne najbliższe punkty są oddalone o $\\sqrt2$\n",
    " 3. Punkt (4, 3) natomiast znajduje się w odległości 1 od punktów (3, 3) oraz (4, 4), jednal każdy z nich ma inną etykietę. W takim przypadku nie da się go sklasyfikować, w rzeczywistości losuje się klasę spośród najbliższych."
   ]
  },
  {
   "cell_type": "markdown",
   "metadata": {},
   "source": [
    "### Zad. 2"
   ]
  },
  {
   "cell_type": "code",
   "execution_count": 13,
   "metadata": {},
   "outputs": [
    {
     "data": {
      "image/png": "[encoded data removed]",
      "text/plain": [
       "<Figure size 432x288 with 1 Axes>"
      ]
     },
     "metadata": {
      "needs_background": "light"
     },
     "output_type": "display_data"
    }
   ],
   "source": [
    "x_u2 = [0]\n",
    "y_u2 = [0]\n",
    "\n",
    "plt.plot([-1, 1, 1, -1, -1], [-1, -1, 1, 1, -1], 'g:')\n",
    "\n",
    "t = np.linspace(0, 2 * pi, 100)\n",
    "plt.scatter(np.cos(t), np.sin(t), marker = '.')\n",
    "\n",
    "plt.scatter(x_u2, y_u2, c = 'k', marker = 'x')\n",
    "\n",
    "plt.xlim(-2, 2)\n",
    "plt.ylim(-1.5, 1.5)\n",
    "\n",
    "plt.show()"
   ]
  },
  {
   "cell_type": "code",
   "execution_count": 5,
   "metadata": {},
   "outputs": [
    {
     "data": {
      "image/png": "[encoded data removed]",
      "text/plain": [
       "<Figure size 432x288 with 1 Axes>"
      ]
     },
     "metadata": {
      "needs_background": "light"
     },
     "output_type": "display_data"
    }
   ],
   "source": [
    "x_u2 = [2, 5, 1.9]\n",
    "y_u2 = [4, 2, -1]\n",
    "plt.scatter(x_c0, y_c0, c = 'r')\n",
    "plt.scatter(x_c1, y_c1, c = 'b')\n",
    "plt.scatter(x_u2, y_u2, c = 'k', marker = 'x')\n",
    "plt.show()"
   ]
  },
  {
   "cell_type": "markdown",
   "metadata": {},
   "source": [
    " 1. Punkt (2, 4) jest równoodległy od punktów (3, 4) oraz (3, 3), nie da się go zatem sklasyfikować.\n",
    " 2. Punkt (5, 2) jest równoodległy od punktów (3, 3), (3, 4), (4, 4), (5, 4). Nie da się go jednoznacznie sklasyfikować, ale większość spośród naajbliższych punktów ma klasę 1 (niebieską), zatem możemy \"strzelać\" w tę klasę.\n",
    " 3. Punkt (1.9; -1) jest najbliższy punktowi (0, 0), zostaje zatem sklasyfikowany jako 1 (niebieski)."
   ]
  },
  {
   "cell_type": "markdown",
   "metadata": {},
   "source": [
    "### Zad. 3"
   ]
  },
  {
   "cell_type": "code",
   "execution_count": 4,
   "metadata": {},
   "outputs": [
    {
     "data": {
      "image/png": "[encoded data removed]",
      "text/plain": [
       "<Figure size 432x288 with 1 Axes>"
      ]
     },
     "metadata": {
      "needs_background": "light"
     },
     "output_type": "display_data"
    }
   ],
   "source": [
    "x_c0 = [0, 1, 2, 2, 3] # r\n",
    "y_c0 = [1, 2, 1, 2, 3]\n",
    "x_c1 = [3, 4, 5, 5, 0] # b\n",
    "y_c1 = [4, 4, 4, 5, 0]\n",
    "x_u1 = [0, 4, 1]\n",
    "y_u1 = [2, 3, 0]\n",
    "plt.scatter(x_c0, y_c0, c = 'r')\n",
    "plt.scatter(x_c1, y_c1, c = 'b')\n",
    "plt.scatter(x_u1, y_u1, c = 'k', marker = 'x')\n",
    "plt.show()"
   ]
  },
  {
   "cell_type": "markdown",
   "metadata": {},
   "source": [
    " 1. Najbliższe punktowi (0, 2) są (0, 1) oraz (1, 2) - Oba sklasyfikowane są jako 0. Oznacza to, że algorytm 2-NN sklasyfikuje je jako 0. Podobnie z algorytmem 3-NN, ponieważ kolejnymi punktami są (0, 0) z klasą 1 oraz (2, 2) z klasą 0, zatem przewaga jest po stronie klasy 0. Gdyby hipotetycznie 2 kolejne punkty były innej klasy niż 2 pierwsze, możemy uznać, że algorytm nie rozstrzyga lub wybrać klasę wskazaną przez najbliższe punkty, a zatem zmniejszyć k o 1. Takie sytuacje są jednak rzadkie, ponieważ w rzeczywistości mamy styczność z liczbami wymiernymi.\n",
    " 2. Punkt (1, 0) leży najbliżej punktów (0, 0), (0, 1) oraz (2, 1), dlatego klasyfikujemy go jako 0. Tym razem algorytm 2-NN nie jest rozstrzygający, a algorytm 3-NN klasyfikuje punkt jako 0 (czyli inaczej niż 1-NN)\n",
    " 3. Punkt (4, 3) natomiast znajduje się w odległości 1 od punktów (3, 3) oraz (4, 4), dlatego 2-NN ponownie nie jest rozstrzygający. Dla 3-NN powiększamy zbiór sąsiadów o punkty (3, 4) oraz (5, 4), zatem przeważa klasa 1 (tym razem algorytm 1-NN nie rozstrzygał."
   ]
  },
  {
   "cell_type": "markdown",
   "metadata": {},
   "source": [
    "### Uwagi:\n",
    " 1. Jak już wspomniano rzadko się zdarza, że algorytm 3-NN nie rozstrzyga, ponieważ rzadko mamy styczność z liczbami całkowitymi. Ogólnie korzysta się z algorytmów kNN, gdzie k jest liczbą nieparzystą, ponieważ wtedy ryzyko remisu jest mniejsze.\n",
    " 2. Warto zauważyć, że klasyfikacja między poszczególnymi algorytmami może się diametralnie zmienić, np. dla punktu (1, 0), gdzie 1-NN klasyfikował jako 1, a 3-NN jako 0. Z dużym prawdopodobieństwem możemy stwierdzić, że punkt treningowy (0, 0) jest pomiarem odstającym (błędnym). Zwiększenie wartości k powoduje, że algorytm jest bardziej odporny na pomiary odstające."
   ]
  },
  {
   "cell_type": "markdown",
   "metadata": {},
   "source": [
    "### Zad. 4\n",
    "Algorytm najbliższych centroidów (lub najbliższej średniej - nearest mean / nearest centroid) można rozpatrywać w pewien ciekawy sposób - jako przekształcenie zbioru uczącego na zbiór składający się po jednym punkcie dla każdej klasy (będący punktem średnim). Wtedy dla problemu dwuklasowego można wyznaczyć granicę decyzyjną* - funkcję liniową oddzielającą punkty o różnych klasach wyznaczonych przez klasyfikator.\n",
    "\n",
    "*Granicę decyzyjną można wyznaczyć w każdym przypadku, ale nie zawsze jest to funkcja liniowa."
   ]
  },
  {
   "cell_type": "code",
   "execution_count": 31,
   "metadata": {
    "collapsed": true,
    "jupyter": {
     "outputs_hidden": true
    }
   },
   "outputs": [
    {
     "data": {
      "image/png": "[encoded data removed]",
      "text/plain": [
       "<Figure size 432x288 with 1 Axes>"
      ]
     },
     "metadata": {
      "needs_background": "light"
     },
     "output_type": "display_data"
    }
   ],
   "source": [
    "# Obliczmy najpierw centroidy\n",
    "[xm_c0, ym_c0, xm_c1, ym_c1] = np.array([x_c0, y_c0, x_c1, y_c1]).mean(axis=1)\n",
    "plt.scatter(xm_c0, ym_c0, c = 'r', marker = 's')\n",
    "plt.scatter(xm_c1, ym_c1, c = 'b', marker = 's')\n",
    "plt.scatter(x_c0, y_c0, c = 'r')\n",
    "plt.scatter(x_c1, y_c1, c = 'b')\n",
    "plt.show()"
   ]
  },
  {
   "cell_type": "markdown",
   "metadata": {},
   "source": [
    "Wyznaczyliśmy reprezentantów poszczególnych klas - to do jakiej klasy należy punkt zależy od tego, który z reprezentantów (średnich) jest najbliżej.\n",
    "\n",
    "Na tej podstawie możemy wyznaczyć granicę decyzyjną - linię prostopadłą do odcinka łączącego centroidy i przechodzącą przez jego środek."
   ]
  },
  {
   "cell_type": "code",
   "execution_count": 54,
   "metadata": {},
   "outputs": [
    {
     "name": "stdout",
     "output_type": "stream",
     "text": [
      "Postać funkcyjna granicy decyzyjnej: y = -1.125 * x + 5.4125\n"
     ]
    },
    {
     "data": {
      "image/png": "[encoded data removed]",
      "text/plain": [
       "<Figure size 432x288 with 1 Axes>"
      ]
     },
     "metadata": {
      "needs_background": "light"
     },
     "output_type": "display_data"
    }
   ],
   "source": [
    "# Wyznaczamy środek odcinka łączącego centroidy:\n",
    "x_o, y_o = (xm_c0 + xm_c1) / 2, (ym_c0 + ym_c1) / 2\n",
    "# Współczynnik kierunkowy odcinka:\n",
    "a_o = (ym_c1 - ym_c0) / (xm_c1 - xm_c0)\n",
    "# Współczynnik kierunkowy granicy decyzyjnej\n",
    "a = -1 / a_o\n",
    "# Punkt przecięcie granicy decyzyjnej z osią x1 (wyraz wolny funkcji liniowej)\n",
    "# y = ax + b => b = y - ax\n",
    "b = y_o - a * x_o\n",
    "print(f'Postać funkcyjna granicy decyzyjnej: y = {a} * x + {b}')\n",
    "\n",
    "from importlib import reload\n",
    "reload(plt)\n",
    "plt.scatter(xm_c0, ym_c0, c = 'r', marker = 's')\n",
    "plt.scatter(xm_c1, ym_c1, c = 'b', marker = 's')\n",
    "y = lambda x: a * x + b\n",
    "plt.plot([1, 4], [y(1), y(4)])\n",
    "plt.xlim(1, 4)\n",
    "plt.ylim(1.5, 3.5)\n",
    "plt.show()"
   ]
  },
  {
   "cell_type": "markdown",
   "metadata": {},
   "source": [
    "### Zad. 5"
   ]
  },
  {
   "cell_type": "code",
   "execution_count": 57,
   "metadata": {},
   "outputs": [
    {
     "data": {
      "text/plain": [
       "<matplotlib.collections.PathCollection at 0x7f9ff6e2add0>"
      ]
     },
     "execution_count": 57,
     "metadata": {},
     "output_type": "execute_result"
    },
    {
     "data": {
      "image/png": "[encoded data removed]",
      "text/plain": [
       "<Figure size 432x288 with 1 Axes>"
      ]
     },
     "metadata": {
      "needs_background": "light"
     },
     "output_type": "display_data"
    }
   ],
   "source": [
    "x_svm0, y_svm0, x_svm1, y_svm1 = [1, 2, 2], [2, 1, 2], [2, 3, 4, 4], [3, 2, 2, 3]\n",
    "plt.scatter(x_svm0, y_svm0, c = 'r')\n",
    "plt.scatter(x_svm1, y_svm1, c = 'b')"
   ]
  },
  {
   "cell_type": "markdown",
   "metadata": {},
   "source": [
    "Zbiór dobrany jest tak, że dość łatwo intuicyjnie poprowadzić granicę między klasami - powinna ona przechodzić między punktami(2, 2) a (2, 3) i (3, 2). Żeby odległość wyznaczonej prostej od tych punktów była największa, musi ona być równoległa do punktów (2, 3) i (3, 2) i równoogległa od wszystkich trzech punktów."
   ]
  },
  {
   "cell_type": "code",
   "execution_count": 59,
   "metadata": {},
   "outputs": [
    {
     "data": {
      "text/plain": [
       "[<matplotlib.lines.Line2D at 0x7f9ff702b590>]"
      ]
     },
     "execution_count": 59,
     "metadata": {},
     "output_type": "execute_result"
    },
    {
     "data": {
      "image/png": "[encoded data removed]",
      "text/plain": [
       "<Figure size 432x288 with 1 Axes>"
      ]
     },
     "metadata": {
      "needs_background": "light"
     },
     "output_type": "display_data"
    }
   ],
   "source": [
    "x_svm0, y_svm0, x_svm1, y_svm1 = [1, 2, 2], [2, 1, 2], [2, 3, 4, 4], [3, 2, 2, 3]\n",
    "plt.scatter(x_svm0, y_svm0, c = 'r')\n",
    "plt.scatter(x_svm1, y_svm1, c = 'b')\n",
    "plt.plot([1.5, 3.5], [3, 1])"
   ]
  },
  {
   "cell_type": "markdown",
   "metadata": {},
   "source": [
    "### Zad. 6\n",
    " 1. Jeżeli liczba odstających pomiarów jest duża, najlepiej sprawdzą się algorytmy kNN dla dużych wartości k (3, 5, 7 - w zależności od zbioru)\n",
    " 2. Dla dużego zbioru uczącego algorytmu kNN są zbyt złożone pod względem czasowym i pamięciowym. Lepiej skorzystać z algorytmu najbliższych średnich lub SVM.\n",
    " 3. Mała ilość danych jest trudnym problemem. Nie można jednoznacznie stwierdzić, który z podanych algorytmów jest najlepszy, na pewno można wykluczyć algorytmy kNN dla dużych wartości k, ponieważ kolejni sąsiedzi mogą znajdować się w dużej odległości od klasyfikowanego obiektu.\n",
    " 4. Jeżeli nie istnieje granica decyzyjna w postaci funkcji liniowej, odpadają klasyfikatory typu SVM i NM. Dobrze sprawdzą się klasyfikatory typu kNN, o ile spełnione są inne warunki, których wymagają, np. odpowiednia ilość danych."
   ]
  }
 ],
 "metadata": {
  "kernelspec": {
   "display_name": "Python 3",
   "language": "python",
   "name": "python3"
  },
  "language_info": {
   "codemirror_mode": {
    "name": "ipython",
    "version": 3
   },
   "file_extension": ".py",
   "mimetype": "text/x-python",
   "name": "python",
   "nbconvert_exporter": "python",
   "pygments_lexer": "ipython3",
   "version": "3.7.6"
  }
 },
 "nbformat": 4,
 "nbformat_minor": 4
}
